{
 "cells": [
  {
   "cell_type": "code",
   "execution_count": 6,
   "id": "629dbd21-93d5-465a-8bfb-57959b08b265",
   "metadata": {
    "tags": []
   },
   "outputs": [],
   "source": [
    "import pandas as pd\n",
    "import numpy as np\n"
   ]
  },
  {
   "cell_type": "code",
   "execution_count": 4,
   "id": "73660954-8b07-4197-873b-10258289b9df",
   "metadata": {
    "tags": []
   },
   "outputs": [
    {
     "data": {
      "text/plain": [
       "3437"
      ]
     },
     "execution_count": 4,
     "metadata": {},
     "output_type": "execute_result"
    }
   ],
   "source": [
    "10312//3"
   ]
  },
  {
   "cell_type": "code",
   "execution_count": 7,
   "id": "dcb9f2be-d96e-4910-ad2f-c2874cf94e8d",
   "metadata": {
    "tags": []
   },
   "outputs": [],
   "source": [
    "filenames = ['llc4320_Eta-U-V-W-Theta-Salt_f' + str(var1) + '_k0_iter_' + str(var) \n",
    "             for var in np.arange(10368,505344,144) for var1 in range(0,13)]"
   ]
  },
  {
   "cell_type": "code",
   "execution_count": 9,
   "id": "07547cd0-786f-4d01-879c-c5ba0b58c9bd",
   "metadata": {
    "tags": []
   },
   "outputs": [
    {
     "data": {
      "text/plain": [
       "44694"
      ]
     },
     "execution_count": 9,
     "metadata": {},
     "output_type": "execute_result"
    }
   ],
   "source": [
    "len(filenames)"
   ]
  },
  {
   "cell_type": "code",
   "execution_count": 10,
   "id": "48d62679-2594-4f76-a581-c352411f927d",
   "metadata": {},
   "outputs": [],
   "source": [
    "d = {'names': filenames, 'NConDISK': [0]*44694, 'JSONonDISK': [0]*44694, 'jsonreplace': [0]*44694,\n",
    "    'NConOSN': [0]*44694,'JSONonOSN': [0]*44694}\n",
    "df = pd.DataFrame(data=d)\n",
    "df = df.set_index('names')"
   ]
  },
  {
   "cell_type": "code",
   "execution_count": 11,
   "id": "eaf4d3e5-8299-44d9-a5e1-c4fab4ccc302",
   "metadata": {
    "tags": []
   },
   "outputs": [
    {
     "data": {
      "text/html": [
       "<div>\n",
       "<style scoped>\n",
       "    .dataframe tbody tr th:only-of-type {\n",
       "        vertical-align: middle;\n",
       "    }\n",
       "\n",
       "    .dataframe tbody tr th {\n",
       "        vertical-align: top;\n",
       "    }\n",
       "\n",
       "    .dataframe thead th {\n",
       "        text-align: right;\n",
       "    }\n",
       "</style>\n",
       "<table border=\"1\" class=\"dataframe\">\n",
       "  <thead>\n",
       "    <tr style=\"text-align: right;\">\n",
       "      <th></th>\n",
       "      <th>NConDISK</th>\n",
       "      <th>JSONonDISK</th>\n",
       "      <th>jsonreplace</th>\n",
       "      <th>NConOSN</th>\n",
       "      <th>JSONonOSN</th>\n",
       "    </tr>\n",
       "    <tr>\n",
       "      <th>names</th>\n",
       "      <th></th>\n",
       "      <th></th>\n",
       "      <th></th>\n",
       "      <th></th>\n",
       "      <th></th>\n",
       "    </tr>\n",
       "  </thead>\n",
       "  <tbody>\n",
       "    <tr>\n",
       "      <th>llc4320_Eta-U-V-W-Theta-Salt_f0_k0_iter_10368</th>\n",
       "      <td>0</td>\n",
       "      <td>0</td>\n",
       "      <td>0</td>\n",
       "      <td>0</td>\n",
       "      <td>0</td>\n",
       "    </tr>\n",
       "    <tr>\n",
       "      <th>llc4320_Eta-U-V-W-Theta-Salt_f1_k0_iter_10368</th>\n",
       "      <td>0</td>\n",
       "      <td>0</td>\n",
       "      <td>0</td>\n",
       "      <td>0</td>\n",
       "      <td>0</td>\n",
       "    </tr>\n",
       "    <tr>\n",
       "      <th>llc4320_Eta-U-V-W-Theta-Salt_f2_k0_iter_10368</th>\n",
       "      <td>0</td>\n",
       "      <td>0</td>\n",
       "      <td>0</td>\n",
       "      <td>0</td>\n",
       "      <td>0</td>\n",
       "    </tr>\n",
       "    <tr>\n",
       "      <th>llc4320_Eta-U-V-W-Theta-Salt_f3_k0_iter_10368</th>\n",
       "      <td>0</td>\n",
       "      <td>0</td>\n",
       "      <td>0</td>\n",
       "      <td>0</td>\n",
       "      <td>0</td>\n",
       "    </tr>\n",
       "    <tr>\n",
       "      <th>llc4320_Eta-U-V-W-Theta-Salt_f4_k0_iter_10368</th>\n",
       "      <td>0</td>\n",
       "      <td>0</td>\n",
       "      <td>0</td>\n",
       "      <td>0</td>\n",
       "      <td>0</td>\n",
       "    </tr>\n",
       "    <tr>\n",
       "      <th>llc4320_Eta-U-V-W-Theta-Salt_f5_k0_iter_10368</th>\n",
       "      <td>0</td>\n",
       "      <td>0</td>\n",
       "      <td>0</td>\n",
       "      <td>0</td>\n",
       "      <td>0</td>\n",
       "    </tr>\n",
       "    <tr>\n",
       "      <th>llc4320_Eta-U-V-W-Theta-Salt_f6_k0_iter_10368</th>\n",
       "      <td>0</td>\n",
       "      <td>0</td>\n",
       "      <td>0</td>\n",
       "      <td>0</td>\n",
       "      <td>0</td>\n",
       "    </tr>\n",
       "    <tr>\n",
       "      <th>llc4320_Eta-U-V-W-Theta-Salt_f7_k0_iter_10368</th>\n",
       "      <td>0</td>\n",
       "      <td>0</td>\n",
       "      <td>0</td>\n",
       "      <td>0</td>\n",
       "      <td>0</td>\n",
       "    </tr>\n",
       "    <tr>\n",
       "      <th>llc4320_Eta-U-V-W-Theta-Salt_f8_k0_iter_10368</th>\n",
       "      <td>0</td>\n",
       "      <td>0</td>\n",
       "      <td>0</td>\n",
       "      <td>0</td>\n",
       "      <td>0</td>\n",
       "    </tr>\n",
       "    <tr>\n",
       "      <th>llc4320_Eta-U-V-W-Theta-Salt_f9_k0_iter_10368</th>\n",
       "      <td>0</td>\n",
       "      <td>0</td>\n",
       "      <td>0</td>\n",
       "      <td>0</td>\n",
       "      <td>0</td>\n",
       "    </tr>\n",
       "  </tbody>\n",
       "</table>\n",
       "</div>"
      ],
      "text/plain": [
       "                                               NConDISK  JSONonDISK   \n",
       "names                                                                 \n",
       "llc4320_Eta-U-V-W-Theta-Salt_f0_k0_iter_10368         0           0  \\\n",
       "llc4320_Eta-U-V-W-Theta-Salt_f1_k0_iter_10368         0           0   \n",
       "llc4320_Eta-U-V-W-Theta-Salt_f2_k0_iter_10368         0           0   \n",
       "llc4320_Eta-U-V-W-Theta-Salt_f3_k0_iter_10368         0           0   \n",
       "llc4320_Eta-U-V-W-Theta-Salt_f4_k0_iter_10368         0           0   \n",
       "llc4320_Eta-U-V-W-Theta-Salt_f5_k0_iter_10368         0           0   \n",
       "llc4320_Eta-U-V-W-Theta-Salt_f6_k0_iter_10368         0           0   \n",
       "llc4320_Eta-U-V-W-Theta-Salt_f7_k0_iter_10368         0           0   \n",
       "llc4320_Eta-U-V-W-Theta-Salt_f8_k0_iter_10368         0           0   \n",
       "llc4320_Eta-U-V-W-Theta-Salt_f9_k0_iter_10368         0           0   \n",
       "\n",
       "                                               jsonreplace  NConOSN  JSONonOSN  \n",
       "names                                                                           \n",
       "llc4320_Eta-U-V-W-Theta-Salt_f0_k0_iter_10368            0        0          0  \n",
       "llc4320_Eta-U-V-W-Theta-Salt_f1_k0_iter_10368            0        0          0  \n",
       "llc4320_Eta-U-V-W-Theta-Salt_f2_k0_iter_10368            0        0          0  \n",
       "llc4320_Eta-U-V-W-Theta-Salt_f3_k0_iter_10368            0        0          0  \n",
       "llc4320_Eta-U-V-W-Theta-Salt_f4_k0_iter_10368            0        0          0  \n",
       "llc4320_Eta-U-V-W-Theta-Salt_f5_k0_iter_10368            0        0          0  \n",
       "llc4320_Eta-U-V-W-Theta-Salt_f6_k0_iter_10368            0        0          0  \n",
       "llc4320_Eta-U-V-W-Theta-Salt_f7_k0_iter_10368            0        0          0  \n",
       "llc4320_Eta-U-V-W-Theta-Salt_f8_k0_iter_10368            0        0          0  \n",
       "llc4320_Eta-U-V-W-Theta-Salt_f9_k0_iter_10368            0        0          0  "
      ]
     },
     "execution_count": 11,
     "metadata": {},
     "output_type": "execute_result"
    }
   ],
   "source": [
    "df.head(10)"
   ]
  },
  {
   "cell_type": "code",
   "execution_count": 12,
   "id": "a427f33d-5355-422e-ae39-f5f5cfbe5bba",
   "metadata": {
    "tags": []
   },
   "outputs": [],
   "source": [
    "df.to_csv('checklist1.csv')"
   ]
  },
  {
   "cell_type": "code",
   "execution_count": null,
   "id": "60f3d340-f1e1-4692-96ff-3454949b8173",
   "metadata": {},
   "outputs": [],
   "source": []
  }
 ],
 "metadata": {
  "kernelspec": {
   "display_name": "Python 3 (ipykernel)",
   "language": "python",
   "name": "python3"
  },
  "language_info": {
   "codemirror_mode": {
    "name": "ipython",
    "version": 3
   },
   "file_extension": ".py",
   "mimetype": "text/x-python",
   "name": "python",
   "nbconvert_exporter": "python",
   "pygments_lexer": "ipython3",
   "version": "3.10.10"
  }
 },
 "nbformat": 4,
 "nbformat_minor": 5
}
